{
 "cells": [
  {
   "cell_type": "markdown",
   "metadata": {},
   "source": [
    "# Soy palíndromo\n",
    "\n",
    "Escribir una función que recibe un string y evalúa si este se lee igual al derecho que al revez. Esta propiedad significa que ese texto es un palíndromo. Esto no toma en cuenta capitalización ni espacios vacíos.\n",
    "\n",
    "Ejemplo: \n",
    "Si el input es “Abba” debe retornar true.\n",
    "Si el input es “sator arepo tenet opera rotas\" debe retornar true.\n",
    "Si el input es “Gilberto” debe retornar false\n"
   ]
  },
  {
   "cell_type": "markdown",
   "metadata": {},
   "source": [
    "1.- lowercase\n",
    "2.- sacar los espacios\n",
    "3.- string comparar la primera y la ultima letra, ver si son iguales, si son las las quitas del string, repetir."
   ]
  },
  {
   "cell_type": "code",
   "execution_count": 10,
   "metadata": {
    "collapsed": true
   },
   "outputs": [],
   "source": [
    "palabra=\"Sator arepo tenet opera rotas\" \n",
    "\n",
    "def is_palindromo(palabra):\n",
    "    palabra = palabra.lower()\n",
    "    palabra = palabra.replace(\" \",\"\")\n",
    "    largo_palabra = len(palabra)\n",
    "    for i in range(largo_palabra//2):\n",
    "        if palabra[i] == palabra[largo_palabra-i-1]:\n",
    "            continue\n",
    "        return(False)\n",
    "    return(True)"
   ]
  },
  {
   "cell_type": "code",
   "execution_count": 11,
   "metadata": {},
   "outputs": [
    {
     "data": {
      "text/plain": [
       "False"
      ]
     },
     "execution_count": 11,
     "metadata": {},
     "output_type": "execute_result"
    }
   ],
   "source": [
    "palabra=\"Sator arepo tenet opera rotasA\" \n",
    "\n",
    "is_palindromo(palabra)"
   ]
  },
  {
   "cell_type": "markdown",
   "metadata": {},
   "source": [
    "# Ya he visto esa letra\n",
    "\n",
    "Escribir una función que recibe un string y retorna el primer carácter en repetirse. Si no se repite ningún carácter retorna null. \n",
    "\n",
    "Ejemplo:\n",
    "Si el input es ‘Abnsba’ debe retornar ‘b’.\n",
    "Si el input es ‘Gilberto’ debe retornar null.\n"
   ]
  },
  {
   "cell_type": "code",
   "execution_count": 12,
   "metadata": {
    "collapsed": true
   },
   "outputs": [],
   "source": [
    "def primer_caracter(palabra):\n",
    "    set_palabra=set()\n",
    "    for letra in palabra:\n",
    "        if letra in set_palabra:\n",
    "            return(letra)\n",
    "        set_palabra.add(letra)\n",
    "    return(None)\n",
    "            "
   ]
  },
  {
   "cell_type": "code",
   "execution_count": 14,
   "metadata": {},
   "outputs": [],
   "source": [
    "palabra=\"Gilberto\"\n",
    "primer_caracter(palabra)"
   ]
  },
  {
   "cell_type": "markdown",
   "metadata": {},
   "source": [
    "# Cuantas islas hay en el océano?\n",
    "\n",
    "Escribir una función que recibe una matriz 2D que contiene sólo ceros o unos. Los ceros representan el mar y los unos, tierra. Esta función retorna la cantidad de islas que hay. Una isla es un conjunto de unos (uno o más) que están juntos.\n"
   ]
  },
  {
   "cell_type": "code",
   "execution_count": 66,
   "metadata": {},
   "outputs": [],
   "source": [
    "def islas(matriz):\n",
    "    num_islands = 0\n",
    "    n = len(matriz)\n",
    "    m = len(matriz[0])\n",
    "    \n",
    "    def helper(i,j):\n",
    "        if n > i >= 0 and  m > j >= 0 and matriz[i][j]==1:\n",
    "            matriz[i][j] = 0\n",
    "\n",
    "            helper(i,j+1)\n",
    "            helper(i,j-1)\n",
    "            helper(i+1,j)\n",
    "            helper(i-1,j)\n",
    "            \n",
    "            helper(i+1,j+1)\n",
    "            helper(i-1,j+1)\n",
    "            \n",
    "            helper(i+1,j-1)\n",
    "            helper(i-1,j-1)\n",
    "            \n",
    "            helper(i+1,j+1)\n",
    "            helper(i+1,j-1)\n",
    "            helper(i-1,j+1)\n",
    "            helper(i-1,j-1)\n",
    "   \n",
    "    n=len(matriz)\n",
    "    m=len(matriz[0])\n",
    "    for i in range(n):\n",
    "        for j in range(m):\n",
    "            if matriz[i][j] == 1:\n",
    "                num_islands += 1\n",
    "                helper(i,j)\n",
    "    return(num_islands)\n",
    "\n",
    "\n",
    "    "
   ]
  },
  {
   "cell_type": "code",
   "execution_count": 65,
   "metadata": {},
   "outputs": [
    {
     "data": {
      "text/plain": [
       "2"
      ]
     },
     "execution_count": 65,
     "metadata": {},
     "output_type": "execute_result"
    }
   ],
   "source": [
    "matriz=[[1,0,1,0],[0,1,1,0],[0,1,0,0],[1,0,0,1]]\n",
    "islas(matriz)"
   ]
  },
  {
   "cell_type": "code",
   "execution_count": null,
   "metadata": {
    "collapsed": true
   },
   "outputs": [],
   "source": []
  }
 ],
 "metadata": {
  "kernelspec": {
   "display_name": "Python 3",
   "language": "python",
   "name": "python3"
  },
  "language_info": {
   "codemirror_mode": {
    "name": "ipython",
    "version": 3
   },
   "file_extension": ".py",
   "mimetype": "text/x-python",
   "name": "python",
   "nbconvert_exporter": "python",
   "pygments_lexer": "ipython3",
   "version": "3.6.3"
  }
 },
 "nbformat": 4,
 "nbformat_minor": 2
}
